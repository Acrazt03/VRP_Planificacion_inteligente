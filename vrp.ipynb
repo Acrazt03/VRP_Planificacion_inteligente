{
 "cells": [
  {
   "cell_type": "code",
   "execution_count": 1,
   "metadata": {},
   "outputs": [
    {
     "name": "stdout",
     "output_type": "stream",
     "text": [
      "Requirement already satisfied: osmium in c:\\users\\acrazt04\\anaconda3\\lib\\site-packages (3.6.0)\n",
      "Requirement already satisfied: folium in c:\\users\\acrazt04\\anaconda3\\lib\\site-packages (0.14.0)\n",
      "Requirement already satisfied: requests in c:\\users\\acrazt04\\anaconda3\\lib\\site-packages (from osmium) (2.27.1)\n",
      "Requirement already satisfied: jinja2>=2.9 in c:\\users\\acrazt04\\anaconda3\\lib\\site-packages (from folium) (2.11.3)\n",
      "Requirement already satisfied: numpy in c:\\users\\acrazt04\\anaconda3\\lib\\site-packages (from folium) (1.20.0)\n",
      "Requirement already satisfied: branca>=0.6.0 in c:\\users\\acrazt04\\anaconda3\\lib\\site-packages (from folium) (0.6.0)\n",
      "Requirement already satisfied: MarkupSafe>=0.23 in c:\\users\\acrazt04\\anaconda3\\lib\\site-packages (from jinja2>=2.9->folium) (2.0.1)\n",
      "Requirement already satisfied: urllib3<1.27,>=1.21.1 in c:\\users\\acrazt04\\anaconda3\\lib\\site-packages (from requests->osmium) (1.26.9)\n",
      "Requirement already satisfied: charset-normalizer~=2.0.0 in c:\\users\\acrazt04\\anaconda3\\lib\\site-packages (from requests->osmium) (2.0.4)\n",
      "Requirement already satisfied: certifi>=2017.4.17 in c:\\users\\acrazt04\\anaconda3\\lib\\site-packages (from requests->osmium) (2021.10.8)\n",
      "Requirement already satisfied: idna<4,>=2.5 in c:\\users\\acrazt04\\anaconda3\\lib\\site-packages (from requests->osmium) (3.3)\n",
      "Note: you may need to restart the kernel to use updated packages.\n"
     ]
    }
   ],
   "source": [
    "%pip install osmium folium"
   ]
  },
  {
   "cell_type": "code",
   "execution_count": 2,
   "metadata": {},
   "outputs": [],
   "source": [
    "import vrp\n",
    "import geographs"
   ]
  },
  {
   "cell_type": "code",
   "execution_count": 3,
   "metadata": {},
   "outputs": [],
   "source": [
    "Depot_coord = (18.497205, -69.895533)\n",
    "qty_clients = 30\n",
    "cap_trucks = 80"
   ]
  },
  {
   "cell_type": "code",
   "execution_count": 4,
   "metadata": {},
   "outputs": [
    {
     "name": "stdout",
     "output_type": "stream",
     "text": [
      "Loading data... \n",
      "Data loaded! \n"
     ]
    }
   ],
   "source": [
    "print(\"Loading data... \")\n",
    "\n",
    "geoGraph = geographs.GeoGraph()\n",
    "print(\"Data loaded! \")"
   ]
  },
  {
   "cell_type": "code",
   "execution_count": 5,
   "metadata": {},
   "outputs": [
    {
     "name": "stdout",
     "output_type": "stream",
     "text": [
      "Depot node:  GeoNode 309000866 at pos (-698958112, 184975126), coords (18.4975126, -69.8958112)\n",
      "qty of trucks:  4\n"
     ]
    }
   ],
   "source": [
    "Depot_node, clients, qty_trucks = vrp.create_nodes(geoGraph, Depot_coord, qty_clients, cap_trucks)\n",
    "\n",
    "print(\"Depot node: \", Depot_node)\n",
    "\n",
    "#for client in clients:\n",
    "#    print(client)\n",
    "\n",
    "print(\"qty of trucks: \", qty_trucks)"
   ]
  },
  {
   "cell_type": "code",
   "execution_count": 6,
   "metadata": {},
   "outputs": [
    {
     "name": "stdout",
     "output_type": "stream",
     "text": [
      "solution:  [0, 1, 1, 3, 2, 0, 0, 1, 2, 3, 1, 0, 0, 0, 2, 1, 1, 1, 2, 2, 3, 3, 3, 2, 0, 2, 0, 2, 1, 3]\n"
     ]
    }
   ],
   "source": [
    "qty_poblacion = 200\n",
    "n_elite = 10\n",
    "n_generations = 50\n",
    "prob_de_mut = 0.5\n",
    "\n",
    "solution = vrp.create_clusters(geoGraph, qty_clients, qty_trucks, cap_trucks, qty_poblacion, n_elite, n_generations, clients, prob_de_mut)\n",
    "\n",
    "print(\"solution: \", solution)"
   ]
  },
  {
   "cell_type": "code",
   "execution_count": 7,
   "metadata": {},
   "outputs": [
    {
     "name": "stdout",
     "output_type": "stream",
     "text": [
      "Truck 1/4\n",
      "Len del client cluster: 8\n",
      "Nearest nodes for client 3919589505: [2321273972, 309678670, 1519082416]\n",
      "Nearest nodes for client 3927598164: [2569082093, 2569083263, 1519082416]\n",
      "Nearest nodes for client 2569083263: [2569082093, 3927598164, 1519082416]\n",
      "Nearest nodes for client 1519082416: [6340236728, 2569083263, 2569082093]\n",
      "Nearest nodes for client 2321273972: [3919589505, 309678670, 1519082416]\n",
      "Nearest nodes for client 2569082093: [2569083263, 3927598164, 1519082416]\n",
      "Nearest nodes for client 309678670: [3919589505, 2321273972, 1519082416]\n",
      "Nearest nodes for client 6340236728: [1519082416, 2569083263, 2569082093]\n",
      "Truck 2/4\n",
      "Len del client cluster: 8\n",
      "Nearest nodes for client 8958260714: [6350040054, 1862278428, 4107859763]\n",
      "Nearest nodes for client 6350040054: [4107859763, 8958260714, 1860245782]\n",
      "Nearest nodes for client 1883891907: [1860245782, 4107859763, 6350040054]\n",
      "Nearest nodes for client 310655641: [7299794563, 1862278428, 1860245782]\n",
      "Nearest nodes for client 1860245782: [1883891907, 4107859763, 6350040054]\n",
      "Nearest nodes for client 7299794563: [1862278428, 310655641, 1860245782]\n",
      "Nearest nodes for client 4107859763: [6350040054, 1860245782, 8958260714]\n",
      "Nearest nodes for client 1862278428: [7299794563, 8958260714, 310655641]\n",
      "Truck 3/4\n",
      "Len del client cluster: 8\n",
      "Nearest nodes for client 6703604319: [1814817282, 6379771994, 7560715475]\n",
      "Nearest nodes for client 1814817282: [6381918074, 6379771994, 1812306037]\n",
      "Nearest nodes for client 6379771994: [1814817282, 6381918074, 1812306037]\n",
      "Nearest nodes for client 7560715475: [6703604319, 1814817282, 6381918074]\n",
      "Nearest nodes for client 1812306037: [6379771994, 1811270962, 1814817282]\n",
      "Nearest nodes for client 6376942589: [1811270962, 6381918074, 6379771994]\n",
      "Nearest nodes for client 1811270962: [6376942589, 1812306037, 6381918074]\n",
      "Nearest nodes for client 6381918074: [1814817282, 6379771994, 6376942589]\n",
      "Truck 4/4\n",
      "Len del client cluster: 6\n",
      "Nearest nodes for client 1860477079: [6806322721, 308503981, 3927383595]\n",
      "Nearest nodes for client 6806322721: [1860477079, 3927383595, 308503981]\n",
      "Nearest nodes for client 1519082200: [562676540, 1860477079, 308503981]\n",
      "Nearest nodes for client 562676540: [1519082200, 1860477079, 6806322721]\n",
      "Nearest nodes for client 3927383595: [6806322721, 308503981, 1860477079]\n",
      "Nearest nodes for client 308503981: [3927383595, 1860477079, 6806322721]\n",
      "routes:  [<graphs.Graph object at 0x00000151FB084E50>, <graphs.Graph object at 0x00000151DC79F520>, <graphs.Graph object at 0x00000151DC86DC10>, <graphs.Graph object at 0x00000151DC88A610>]\n",
      "{<geographs.GeoNode object at 0x00000151E8F09490>, <geographs.GeoNode object at 0x00000151EE9232B0>, <geographs.GeoNode object at 0x00000151EC9BA8E0>, <geographs.GeoNode object at 0x00000151ED8C1700>, <geographs.GeoNode object at 0x00000151ED8C1310>, <geographs.GeoNode object at 0x00000151EEA50730>, <geographs.GeoNode object at 0x00000151E9E34370>, <geographs.GeoNode object at 0x00000151F47E9370>}\n",
      "{<geographs.GeoNode object at 0x00000151F495D460>, <geographs.GeoNode object at 0x00000151EB71E070>, <geographs.GeoNode object at 0x00000151F8BF3EB0>, <geographs.GeoNode object at 0x00000151E93874F0>, <geographs.GeoNode object at 0x00000151E971EF40>, <geographs.GeoNode object at 0x00000151EACDD340>, <geographs.GeoNode object at 0x00000151EC197580>, <geographs.GeoNode object at 0x00000151F5A685B0>}\n",
      "{<geographs.GeoNode object at 0x00000151E94BBA00>, <geographs.GeoNode object at 0x00000151F4D93250>, <geographs.GeoNode object at 0x00000151F5D13460>, <geographs.GeoNode object at 0x00000151EA2BF850>, <geographs.GeoNode object at 0x00000151EA337280>, <geographs.GeoNode object at 0x00000151F530E6D0>, <geographs.GeoNode object at 0x00000151F4C740D0>, <geographs.GeoNode object at 0x00000151F4DF3D30>}\n",
      "{<geographs.GeoNode object at 0x00000151EA94D970>, <geographs.GeoNode object at 0x00000151E9E1CE50>, <geographs.GeoNode object at 0x00000151E9BADAC0>, <geographs.GeoNode object at 0x00000151F55B9520>, <geographs.GeoNode object at 0x00000151EEA37370>, <geographs.GeoNode object at 0x00000151E163DDF0>}\n"
     ]
    }
   ],
   "source": [
    "n_nearest_nodes = 3\n",
    "\n",
    "routes = vrp.create_routes(geoGraph, Depot_node, clients, qty_trucks, solution, n_nearest_nodes)\n",
    "\n",
    "print(\"routes: \", routes)\n",
    "\n",
    "for graph in routes:\n",
    "    print(graph.get_nodes())\n"
   ]
  },
  {
   "cell_type": "code",
   "execution_count": 8,
   "metadata": {},
   "outputs": [
    {
     "data": {
      "text/plain": [
       "8"
      ]
     },
     "execution_count": 8,
     "metadata": {},
     "output_type": "execute_result"
    }
   ],
   "source": [
    "len(routes[0].get_nodes())"
   ]
  },
  {
   "cell_type": "code",
   "execution_count": 9,
   "metadata": {},
   "outputs": [
    {
     "data": {
      "text/plain": [
       "8"
      ]
     },
     "execution_count": 9,
     "metadata": {},
     "output_type": "execute_result"
    }
   ],
   "source": [
    "len(routes[1].get_nodes())"
   ]
  },
  {
   "cell_type": "code",
   "execution_count": 10,
   "metadata": {},
   "outputs": [
    {
     "data": {
      "text/plain": [
       "8"
      ]
     },
     "execution_count": 10,
     "metadata": {},
     "output_type": "execute_result"
    }
   ],
   "source": [
    "len(routes[2].get_nodes())"
   ]
  },
  {
   "cell_type": "code",
   "execution_count": 11,
   "metadata": {},
   "outputs": [
    {
     "data": {
      "text/plain": [
       "6"
      ]
     },
     "execution_count": 11,
     "metadata": {},
     "output_type": "execute_result"
    }
   ],
   "source": [
    "len(routes[3].get_nodes())"
   ]
  },
  {
   "cell_type": "code",
   "execution_count": 12,
   "metadata": {},
   "outputs": [],
   "source": [
    "import random"
   ]
  },
  {
   "cell_type": "code",
   "execution_count": 13,
   "metadata": {},
   "outputs": [
    {
     "name": "stderr",
     "output_type": "stream",
     "text": [
      "C:\\Users\\Acrazt04\\AppData\\Local\\Temp\\ipykernel_8976\\2544818617.py:1: DeprecationWarning: Sampling from a set deprecated\n",
      "since Python 3.9 and will be removed in a subsequent version.\n",
      "  nodes = random.sample(routes[0].get_nodes(), k=2)\n"
     ]
    }
   ],
   "source": [
    "nodes = random.sample(routes[0].get_nodes(), k=2)"
   ]
  },
  {
   "cell_type": "code",
   "execution_count": 14,
   "metadata": {},
   "outputs": [],
   "source": [
    "initial_node = nodes[0]\n",
    "goal_node = nodes[1]"
   ]
  },
  {
   "cell_type": "code",
   "execution_count": 15,
   "metadata": {},
   "outputs": [],
   "source": [
    "path = initial_node.value[goal_node.name]"
   ]
  },
  {
   "cell_type": "code",
   "execution_count": 16,
   "metadata": {},
   "outputs": [
    {
     "data": {
      "text/plain": [
       "(3927598164, 3927598164)"
      ]
     },
     "execution_count": 16,
     "metadata": {},
     "output_type": "execute_result"
    }
   ],
   "source": [
    "goal_node.name,path[-1].name"
   ]
  },
  {
   "cell_type": "code",
   "execution_count": 17,
   "metadata": {},
   "outputs": [
    {
     "data": {
      "text/plain": [
       "[<geographs.GeoNode at 0x151ed8c1310>,\n",
       " <geographs.GeoNode at 0x151ed8c1580>,\n",
       " <geographs.GeoNode at 0x151ed8c12b0>,\n",
       " <geographs.GeoNode at 0x151ed8a9160>,\n",
       " <geographs.GeoNode at 0x151ed8a90d0>,\n",
       " <geographs.GeoNode at 0x151ed8a91f0>,\n",
       " <geographs.GeoNode at 0x151ed8a9f70>,\n",
       " <geographs.GeoNode at 0x151ed8b40d0>,\n",
       " <geographs.GeoNode at 0x151eb78acd0>,\n",
       " <geographs.GeoNode at 0x151f0508b50>,\n",
       " <geographs.GeoNode at 0x151ed8d8a00>,\n",
       " <geographs.GeoNode at 0x151ed8d89a0>,\n",
       " <geographs.GeoNode at 0x151eb7ae700>,\n",
       " <geographs.GeoNode at 0x151ed8d8a90>,\n",
       " <geographs.GeoNode at 0x151ed8d8a60>,\n",
       " <geographs.GeoNode at 0x151ed8d8ac0>,\n",
       " <geographs.GeoNode at 0x151eea50820>,\n",
       " <geographs.GeoNode at 0x151eea50760>,\n",
       " <geographs.GeoNode at 0x151eea506a0>,\n",
       " <geographs.GeoNode at 0x151eea50670>,\n",
       " <geographs.GeoNode at 0x151eea506d0>,\n",
       " <geographs.GeoNode at 0x151eea50700>,\n",
       " <geographs.GeoNode at 0x151eea50790>,\n",
       " <geographs.GeoNode at 0x151eea50730>]"
      ]
     },
     "execution_count": 17,
     "metadata": {},
     "output_type": "execute_result"
    }
   ],
   "source": [
    "path"
   ]
  },
  {
   "cell_type": "code",
   "execution_count": 18,
   "metadata": {},
   "outputs": [
    {
     "data": {
      "text/plain": [
       "{<geographs.GeoNode at 0x151f47e9370>,\n",
       " <geographs.GeoNode at 0x151e9e34370>,\n",
       " <geographs.GeoNode at 0x151eea50730>,\n",
       " <geographs.GeoNode at 0x151ed8c1310>,\n",
       " <geographs.GeoNode at 0x151ed8c1700>,\n",
       " <geographs.GeoNode at 0x151ec9ba8e0>,\n",
       " <geographs.GeoNode at 0x151ee9232b0>,\n",
       " <geographs.GeoNode at 0x151e8f09490>}"
      ]
     },
     "execution_count": 18,
     "metadata": {},
     "output_type": "execute_result"
    }
   ],
   "source": [
    "routes[0].get_nodes()"
   ]
  },
  {
   "cell_type": "code",
   "execution_count": 19,
   "metadata": {},
   "outputs": [
    {
     "data": {
      "text/plain": [
       "[309678670,\n",
       " 3919589505,\n",
       " 2321273972,\n",
       " 2569083263,\n",
       " 2569082093,\n",
       " 3927598164,\n",
       " 1519082416,\n",
       " 6340236728]"
      ]
     },
     "execution_count": 19,
     "metadata": {},
     "output_type": "execute_result"
    }
   ],
   "source": [
    "[node.name for node in routes[0].get_nodes()]"
   ]
  },
  {
   "cell_type": "code",
   "execution_count": 20,
   "metadata": {},
   "outputs": [
    {
     "data": {
      "text/plain": [
       "1519082416"
      ]
     },
     "execution_count": 20,
     "metadata": {},
     "output_type": "execute_result"
    }
   ],
   "source": [
    "initial_node.name"
   ]
  },
  {
   "cell_type": "code",
   "execution_count": 22,
   "metadata": {},
   "outputs": [
    {
     "data": {
      "text/plain": [
       "30"
      ]
     },
     "execution_count": 22,
     "metadata": {},
     "output_type": "execute_result"
    }
   ],
   "source": [
    "len([node_name for node_name in initial_node.value])"
   ]
  },
  {
   "cell_type": "code",
   "execution_count": 25,
   "metadata": {},
   "outputs": [
    {
     "data": {
      "text/plain": [
       "30"
      ]
     },
     "execution_count": 25,
     "metadata": {},
     "output_type": "execute_result"
    }
   ],
   "source": [
    "len(initial_node.value.keys())"
   ]
  },
  {
   "cell_type": "code",
   "execution_count": 26,
   "metadata": {},
   "outputs": [
    {
     "ename": "KeyError",
     "evalue": "6350040054",
     "output_type": "error",
     "traceback": [
      "\u001b[1;31m---------------------------------------------------------------------------\u001b[0m",
      "\u001b[1;31mKeyError\u001b[0m                                  Traceback (most recent call last)",
      "\u001b[1;32mUntitled-1.ipynb Cell 23\u001b[0m in \u001b[0;36m<cell line: 9>\u001b[1;34m()\u001b[0m\n\u001b[0;32m      <a href='vscode-notebook-cell:Untitled-1.ipynb?jupyter-notebook#X13sdW50aXRsZWQ%3D?line=6'>7</a>\u001b[0m folium\u001b[39m.\u001b[39mMarker(initial_marker)\u001b[39m.\u001b[39madd_to(\u001b[39mmap\u001b[39m)\n\u001b[0;32m      <a href='vscode-notebook-cell:Untitled-1.ipynb?jupyter-notebook#X13sdW50aXRsZWQ%3D?line=8'>9</a>\u001b[0m \u001b[39mfor\u001b[39;00m connected_node_name \u001b[39min\u001b[39;00m initial_node\u001b[39m.\u001b[39mvalue:\n\u001b[1;32m---> <a href='vscode-notebook-cell:Untitled-1.ipynb?jupyter-notebook#X13sdW50aXRsZWQ%3D?line=10'>11</a>\u001b[0m     connected_node \u001b[39m=\u001b[39m routes[\u001b[39m0\u001b[39;49m]\u001b[39m.\u001b[39;49mget_node_by_name(connected_node_name)\n\u001b[0;32m     <a href='vscode-notebook-cell:Untitled-1.ipynb?jupyter-notebook#X13sdW50aXRsZWQ%3D?line=12'>13</a>\u001b[0m     folium\u001b[39m.\u001b[39mMarker([connected_node\u001b[39m.\u001b[39mlat, connected_node\u001b[39m.\u001b[39mlon])\u001b[39m.\u001b[39madd_to(\u001b[39mmap\u001b[39m)\n\u001b[0;32m     <a href='vscode-notebook-cell:Untitled-1.ipynb?jupyter-notebook#X13sdW50aXRsZWQ%3D?line=14'>15</a>\u001b[0m     path \u001b[39m=\u001b[39m initial_node\u001b[39m.\u001b[39mvalue[connected_node_name]\n",
      "File \u001b[1;32mc:\\Users\\Acrazt04\\Documents\\ITLA\\6to cuatrimestre\\Planificación inteligente\\Proyecto VRP\\VRP_Planificacion_inteligente\\graphs.py:45\u001b[0m, in \u001b[0;36mGraph.get_node_by_name\u001b[1;34m(self, name)\u001b[0m\n\u001b[0;32m     44\u001b[0m \u001b[39mdef\u001b[39;00m \u001b[39mget_node_by_name\u001b[39m(\u001b[39mself\u001b[39m, name):\n\u001b[1;32m---> 45\u001b[0m   \u001b[39mreturn\u001b[39;00m \u001b[39mself\u001b[39;49m\u001b[39m.\u001b[39;49mnodes[name]\n",
      "\u001b[1;31mKeyError\u001b[0m: 6350040054"
     ]
    }
   ],
   "source": [
    "import folium\n",
    "\n",
    "initial_marker = [initial_node.lat, initial_node.lon]\n",
    "\n",
    "map = folium.Map(location=initial_marker, zoom_start=17)\n",
    "\n",
    "folium.Marker(initial_marker).add_to(map)\n",
    "\n",
    "for connected_node_name in initial_node.value:\n",
    "    \n",
    "    connected_node = routes[0].get_node_by_name(connected_node_name)\n",
    "\n",
    "    folium.Marker([connected_node.lat, connected_node.lon]).add_to(map)\n",
    "\n",
    "    path = initial_node.value[connected_node_name]\n",
    "    points = []\n",
    "\n",
    "    for node in path:\n",
    "        point = [node.lat, node.lon]\n",
    "        points.append(point)\n",
    "\n",
    "    folium.PolyLine(points, weight=5, opacity=1).add_to(map)\n",
    "map"
   ]
  },
  {
   "cell_type": "code",
   "execution_count": 38,
   "metadata": {},
   "outputs": [
    {
     "data": {
      "text/plain": [
       "{<geographs.GeoNode at 0x1f0e0321f40>,\n",
       " <geographs.GeoNode at 0x1f0e3ced910>,\n",
       " <geographs.GeoNode at 0x1f0e9b53af0>,\n",
       " <geographs.GeoNode at 0x1f0df491e50>,\n",
       " <geographs.GeoNode at 0x1f0dfc1c640>,\n",
       " <geographs.GeoNode at 0x1f0dec78a00>}"
      ]
     },
     "execution_count": 38,
     "metadata": {},
     "output_type": "execute_result"
    }
   ],
   "source": [
    "routes[-1].get_nodes()"
   ]
  },
  {
   "cell_type": "code",
   "execution_count": 27,
   "metadata": {},
   "outputs": [
    {
     "data": {
      "text/html": [
       "<div style=\"width:100%;\"><div style=\"position:relative;width:100%;height:0;padding-bottom:60%;\"><span style=\"color:#565656\">Make this Notebook Trusted to load map: File -> Trust Notebook</span><iframe srcdoc=\"&lt;!DOCTYPE html&gt;\n",
       "&lt;html&gt;\n",
       "&lt;head&gt;\n",
       "    \n",
       "    &lt;meta http-equiv=&quot;content-type&quot; content=&quot;text/html; charset=UTF-8&quot; /&gt;\n",
       "    \n",
       "        &lt;script&gt;\n",
       "            L_NO_TOUCH = false;\n",
       "            L_DISABLE_3D = false;\n",
       "        &lt;/script&gt;\n",
       "    \n",
       "    &lt;style&gt;html, body {width: 100%;height: 100%;margin: 0;padding: 0;}&lt;/style&gt;\n",
       "    &lt;style&gt;#map {position:absolute;top:0;bottom:0;right:0;left:0;}&lt;/style&gt;\n",
       "    &lt;script src=&quot;https://cdn.jsdelivr.net/npm/leaflet@1.9.3/dist/leaflet.js&quot;&gt;&lt;/script&gt;\n",
       "    &lt;script src=&quot;https://code.jquery.com/jquery-1.12.4.min.js&quot;&gt;&lt;/script&gt;\n",
       "    &lt;script src=&quot;https://cdn.jsdelivr.net/npm/bootstrap@5.2.2/dist/js/bootstrap.bundle.min.js&quot;&gt;&lt;/script&gt;\n",
       "    &lt;script src=&quot;https://cdnjs.cloudflare.com/ajax/libs/Leaflet.awesome-markers/2.0.2/leaflet.awesome-markers.js&quot;&gt;&lt;/script&gt;\n",
       "    &lt;link rel=&quot;stylesheet&quot; href=&quot;https://cdn.jsdelivr.net/npm/leaflet@1.9.3/dist/leaflet.css&quot;/&gt;\n",
       "    &lt;link rel=&quot;stylesheet&quot; href=&quot;https://cdn.jsdelivr.net/npm/bootstrap@5.2.2/dist/css/bootstrap.min.css&quot;/&gt;\n",
       "    &lt;link rel=&quot;stylesheet&quot; href=&quot;https://netdna.bootstrapcdn.com/bootstrap/3.0.0/css/bootstrap.min.css&quot;/&gt;\n",
       "    &lt;link rel=&quot;stylesheet&quot; href=&quot;https://cdn.jsdelivr.net/npm/@fortawesome/fontawesome-free@6.2.0/css/all.min.css&quot;/&gt;\n",
       "    &lt;link rel=&quot;stylesheet&quot; href=&quot;https://cdnjs.cloudflare.com/ajax/libs/Leaflet.awesome-markers/2.0.2/leaflet.awesome-markers.css&quot;/&gt;\n",
       "    &lt;link rel=&quot;stylesheet&quot; href=&quot;https://cdn.jsdelivr.net/gh/python-visualization/folium/folium/templates/leaflet.awesome.rotate.min.css&quot;/&gt;\n",
       "    \n",
       "            &lt;meta name=&quot;viewport&quot; content=&quot;width=device-width,\n",
       "                initial-scale=1.0, maximum-scale=1.0, user-scalable=no&quot; /&gt;\n",
       "            &lt;style&gt;\n",
       "                #map_f453ef04e4f5358c49f2a4acd7d1d6e0 {\n",
       "                    position: relative;\n",
       "                    width: 100.0%;\n",
       "                    height: 100.0%;\n",
       "                    left: 0.0%;\n",
       "                    top: 0.0%;\n",
       "                }\n",
       "                .leaflet-container { font-size: 1rem; }\n",
       "            &lt;/style&gt;\n",
       "        \n",
       "&lt;/head&gt;\n",
       "&lt;body&gt;\n",
       "    \n",
       "    \n",
       "            &lt;div class=&quot;folium-map&quot; id=&quot;map_f453ef04e4f5358c49f2a4acd7d1d6e0&quot; &gt;&lt;/div&gt;\n",
       "        \n",
       "&lt;/body&gt;\n",
       "&lt;script&gt;\n",
       "    \n",
       "    \n",
       "            var map_f453ef04e4f5358c49f2a4acd7d1d6e0 = L.map(\n",
       "                &quot;map_f453ef04e4f5358c49f2a4acd7d1d6e0&quot;,\n",
       "                {\n",
       "                    center: [18.4708214, -69.895577],\n",
       "                    crs: L.CRS.EPSG3857,\n",
       "                    zoom: 17,\n",
       "                    zoomControl: true,\n",
       "                    preferCanvas: false,\n",
       "                }\n",
       "            );\n",
       "\n",
       "            \n",
       "\n",
       "        \n",
       "    \n",
       "            var tile_layer_6246b2fec3dc21535966279d9cfb03aa = L.tileLayer(\n",
       "                &quot;https://{s}.tile.openstreetmap.org/{z}/{x}/{y}.png&quot;,\n",
       "                {&quot;attribution&quot;: &quot;Data by \\u0026copy; \\u003ca target=\\&quot;_blank\\&quot; href=\\&quot;http://openstreetmap.org\\&quot;\\u003eOpenStreetMap\\u003c/a\\u003e, under \\u003ca target=\\&quot;_blank\\&quot; href=\\&quot;http://www.openstreetmap.org/copyright\\&quot;\\u003eODbL\\u003c/a\\u003e.&quot;, &quot;detectRetina&quot;: false, &quot;maxNativeZoom&quot;: 18, &quot;maxZoom&quot;: 18, &quot;minZoom&quot;: 0, &quot;noWrap&quot;: false, &quot;opacity&quot;: 1, &quot;subdomains&quot;: &quot;abc&quot;, &quot;tms&quot;: false}\n",
       "            ).addTo(map_f453ef04e4f5358c49f2a4acd7d1d6e0);\n",
       "        \n",
       "    \n",
       "            var marker_53937be63172a2a3f1f16578b6cb9180 = L.marker(\n",
       "                [18.4373741, -69.9726624],\n",
       "                {}\n",
       "            ).addTo(map_f453ef04e4f5358c49f2a4acd7d1d6e0);\n",
       "        \n",
       "    \n",
       "            var icon_9dd7d60ac9ac2f35e7bb55e1c8bdffcb = L.AwesomeMarkers.icon(\n",
       "                {&quot;extraClasses&quot;: &quot;fa-rotate-0&quot;, &quot;icon&quot;: &quot;info-sign&quot;, &quot;iconColor&quot;: &quot;white&quot;, &quot;markerColor&quot;: &quot;red&quot;, &quot;prefix&quot;: &quot;glyphicon&quot;}\n",
       "            );\n",
       "            marker_53937be63172a2a3f1f16578b6cb9180.setIcon(icon_9dd7d60ac9ac2f35e7bb55e1c8bdffcb);\n",
       "        \n",
       "    \n",
       "            var marker_42a049336fb5f6e9623bf490be993da6 = L.marker(\n",
       "                [18.437062, -70.0411492],\n",
       "                {}\n",
       "            ).addTo(map_f453ef04e4f5358c49f2a4acd7d1d6e0);\n",
       "        \n",
       "    \n",
       "            var icon_507f67571ded43e0d8eb670ee7e36d59 = L.AwesomeMarkers.icon(\n",
       "                {&quot;extraClasses&quot;: &quot;fa-rotate-0&quot;, &quot;icon&quot;: &quot;info-sign&quot;, &quot;iconColor&quot;: &quot;white&quot;, &quot;markerColor&quot;: &quot;red&quot;, &quot;prefix&quot;: &quot;glyphicon&quot;}\n",
       "            );\n",
       "            marker_42a049336fb5f6e9623bf490be993da6.setIcon(icon_507f67571ded43e0d8eb670ee7e36d59);\n",
       "        \n",
       "    \n",
       "            var marker_5e3b13391f6fa8e5c78dd4a5185a1790 = L.marker(\n",
       "                [18.4849461, -70.0497884],\n",
       "                {}\n",
       "            ).addTo(map_f453ef04e4f5358c49f2a4acd7d1d6e0);\n",
       "        \n",
       "    \n",
       "            var icon_8b729d083909c30bdd4e498b93d4df56 = L.AwesomeMarkers.icon(\n",
       "                {&quot;extraClasses&quot;: &quot;fa-rotate-0&quot;, &quot;icon&quot;: &quot;info-sign&quot;, &quot;iconColor&quot;: &quot;white&quot;, &quot;markerColor&quot;: &quot;red&quot;, &quot;prefix&quot;: &quot;glyphicon&quot;}\n",
       "            );\n",
       "            marker_5e3b13391f6fa8e5c78dd4a5185a1790.setIcon(icon_8b729d083909c30bdd4e498b93d4df56);\n",
       "        \n",
       "    \n",
       "            var marker_85d4c90e71a3d9ab1411f076c52bc103 = L.marker(\n",
       "                [18.536405, -69.7954392],\n",
       "                {}\n",
       "            ).addTo(map_f453ef04e4f5358c49f2a4acd7d1d6e0);\n",
       "        \n",
       "    \n",
       "            var icon_7d97d23257d4102071a3e0d93aaef89e = L.AwesomeMarkers.icon(\n",
       "                {&quot;extraClasses&quot;: &quot;fa-rotate-0&quot;, &quot;icon&quot;: &quot;info-sign&quot;, &quot;iconColor&quot;: &quot;white&quot;, &quot;markerColor&quot;: &quot;red&quot;, &quot;prefix&quot;: &quot;glyphicon&quot;}\n",
       "            );\n",
       "            marker_85d4c90e71a3d9ab1411f076c52bc103.setIcon(icon_7d97d23257d4102071a3e0d93aaef89e);\n",
       "        \n",
       "    \n",
       "            var marker_ae7a8e052a66776367be6d17756df8c0 = L.marker(\n",
       "                [18.5401357, -69.7958671],\n",
       "                {}\n",
       "            ).addTo(map_f453ef04e4f5358c49f2a4acd7d1d6e0);\n",
       "        \n",
       "    \n",
       "            var icon_01e132f4d538333988768288c65fab01 = L.AwesomeMarkers.icon(\n",
       "                {&quot;extraClasses&quot;: &quot;fa-rotate-0&quot;, &quot;icon&quot;: &quot;info-sign&quot;, &quot;iconColor&quot;: &quot;white&quot;, &quot;markerColor&quot;: &quot;red&quot;, &quot;prefix&quot;: &quot;glyphicon&quot;}\n",
       "            );\n",
       "            marker_ae7a8e052a66776367be6d17756df8c0.setIcon(icon_01e132f4d538333988768288c65fab01);\n",
       "        \n",
       "    \n",
       "            var marker_d527bde90ae52ccba973b300c0d40409 = L.marker(\n",
       "                [18.5431815, -69.7893912],\n",
       "                {}\n",
       "            ).addTo(map_f453ef04e4f5358c49f2a4acd7d1d6e0);\n",
       "        \n",
       "    \n",
       "            var icon_a591730d1688d412c55c43e092a803f5 = L.AwesomeMarkers.icon(\n",
       "                {&quot;extraClasses&quot;: &quot;fa-rotate-0&quot;, &quot;icon&quot;: &quot;info-sign&quot;, &quot;iconColor&quot;: &quot;white&quot;, &quot;markerColor&quot;: &quot;red&quot;, &quot;prefix&quot;: &quot;glyphicon&quot;}\n",
       "            );\n",
       "            marker_d527bde90ae52ccba973b300c0d40409.setIcon(icon_a591730d1688d412c55c43e092a803f5);\n",
       "        \n",
       "    \n",
       "            var marker_d19f8c76f9b65515fa23de33cf8a96e3 = L.marker(\n",
       "                [18.4900322, -69.830244],\n",
       "                {}\n",
       "            ).addTo(map_f453ef04e4f5358c49f2a4acd7d1d6e0);\n",
       "        \n",
       "    \n",
       "            var icon_9d1d7a28a87494dd5e48fa5f9ab13053 = L.AwesomeMarkers.icon(\n",
       "                {&quot;extraClasses&quot;: &quot;fa-rotate-0&quot;, &quot;icon&quot;: &quot;info-sign&quot;, &quot;iconColor&quot;: &quot;white&quot;, &quot;markerColor&quot;: &quot;red&quot;, &quot;prefix&quot;: &quot;glyphicon&quot;}\n",
       "            );\n",
       "            marker_d19f8c76f9b65515fa23de33cf8a96e3.setIcon(icon_9d1d7a28a87494dd5e48fa5f9ab13053);\n",
       "        \n",
       "    \n",
       "            var marker_a1d1612121c24b250c9d6dc96b2d5de2 = L.marker(\n",
       "                [18.4794366, -69.8240415],\n",
       "                {}\n",
       "            ).addTo(map_f453ef04e4f5358c49f2a4acd7d1d6e0);\n",
       "        \n",
       "    \n",
       "            var icon_760d5e8c8af22397af493c42ce5baf2a = L.AwesomeMarkers.icon(\n",
       "                {&quot;extraClasses&quot;: &quot;fa-rotate-0&quot;, &quot;icon&quot;: &quot;info-sign&quot;, &quot;iconColor&quot;: &quot;white&quot;, &quot;markerColor&quot;: &quot;red&quot;, &quot;prefix&quot;: &quot;glyphicon&quot;}\n",
       "            );\n",
       "            marker_a1d1612121c24b250c9d6dc96b2d5de2.setIcon(icon_760d5e8c8af22397af493c42ce5baf2a);\n",
       "        \n",
       "    \n",
       "            var marker_87619ff9ba0e1b50eb9603724ee66dc4 = L.marker(\n",
       "                [18.5395297, -69.911355],\n",
       "                {}\n",
       "            ).addTo(map_f453ef04e4f5358c49f2a4acd7d1d6e0);\n",
       "        \n",
       "    \n",
       "            var icon_29f443f982cf345292dbdd08b9e7521a = L.AwesomeMarkers.icon(\n",
       "                {&quot;extraClasses&quot;: &quot;fa-rotate-0&quot;, &quot;icon&quot;: &quot;info-sign&quot;, &quot;iconColor&quot;: &quot;white&quot;, &quot;markerColor&quot;: &quot;blue&quot;, &quot;prefix&quot;: &quot;glyphicon&quot;}\n",
       "            );\n",
       "            marker_87619ff9ba0e1b50eb9603724ee66dc4.setIcon(icon_29f443f982cf345292dbdd08b9e7521a);\n",
       "        \n",
       "    \n",
       "            var marker_845e4efb61dd433ec42c8d3161942301 = L.marker(\n",
       "                [18.4918662, -69.8840292],\n",
       "                {}\n",
       "            ).addTo(map_f453ef04e4f5358c49f2a4acd7d1d6e0);\n",
       "        \n",
       "    \n",
       "            var icon_ce6790044ff8689abadef3f997dd3f95 = L.AwesomeMarkers.icon(\n",
       "                {&quot;extraClasses&quot;: &quot;fa-rotate-0&quot;, &quot;icon&quot;: &quot;info-sign&quot;, &quot;iconColor&quot;: &quot;white&quot;, &quot;markerColor&quot;: &quot;blue&quot;, &quot;prefix&quot;: &quot;glyphicon&quot;}\n",
       "            );\n",
       "            marker_845e4efb61dd433ec42c8d3161942301.setIcon(icon_ce6790044ff8689abadef3f997dd3f95);\n",
       "        \n",
       "    \n",
       "            var marker_d6b7e8c4d2bda3823c1b942f2164454b = L.marker(\n",
       "                [18.5431704, -69.9372359],\n",
       "                {}\n",
       "            ).addTo(map_f453ef04e4f5358c49f2a4acd7d1d6e0);\n",
       "        \n",
       "    \n",
       "            var icon_049ea1f39ee1294e35e6e7c26fc4e6ff = L.AwesomeMarkers.icon(\n",
       "                {&quot;extraClasses&quot;: &quot;fa-rotate-0&quot;, &quot;icon&quot;: &quot;info-sign&quot;, &quot;iconColor&quot;: &quot;white&quot;, &quot;markerColor&quot;: &quot;blue&quot;, &quot;prefix&quot;: &quot;glyphicon&quot;}\n",
       "            );\n",
       "            marker_d6b7e8c4d2bda3823c1b942f2164454b.setIcon(icon_049ea1f39ee1294e35e6e7c26fc4e6ff);\n",
       "        \n",
       "    \n",
       "            var marker_5cc9c7779c609d9f4f9d298c7462666b = L.marker(\n",
       "                [18.4728574, -69.9519692],\n",
       "                {}\n",
       "            ).addTo(map_f453ef04e4f5358c49f2a4acd7d1d6e0);\n",
       "        \n",
       "    \n",
       "            var icon_46c8f93a1457bf20edebfa30ac09efdc = L.AwesomeMarkers.icon(\n",
       "                {&quot;extraClasses&quot;: &quot;fa-rotate-0&quot;, &quot;icon&quot;: &quot;info-sign&quot;, &quot;iconColor&quot;: &quot;white&quot;, &quot;markerColor&quot;: &quot;blue&quot;, &quot;prefix&quot;: &quot;glyphicon&quot;}\n",
       "            );\n",
       "            marker_5cc9c7779c609d9f4f9d298c7462666b.setIcon(icon_46c8f93a1457bf20edebfa30ac09efdc);\n",
       "        \n",
       "    \n",
       "            var marker_0942fa1322062b60b48d0406119ba007 = L.marker(\n",
       "                [18.5066616, -69.8979087],\n",
       "                {}\n",
       "            ).addTo(map_f453ef04e4f5358c49f2a4acd7d1d6e0);\n",
       "        \n",
       "    \n",
       "            var icon_0e3cb7c1bb3d31376db658a1bae1c6c7 = L.AwesomeMarkers.icon(\n",
       "                {&quot;extraClasses&quot;: &quot;fa-rotate-0&quot;, &quot;icon&quot;: &quot;info-sign&quot;, &quot;iconColor&quot;: &quot;white&quot;, &quot;markerColor&quot;: &quot;blue&quot;, &quot;prefix&quot;: &quot;glyphicon&quot;}\n",
       "            );\n",
       "            marker_0942fa1322062b60b48d0406119ba007.setIcon(icon_0e3cb7c1bb3d31376db658a1bae1c6c7);\n",
       "        \n",
       "    \n",
       "            var marker_dafb820e33965e66b7c4db52249c5b25 = L.marker(\n",
       "                [18.5102918, -69.9509231],\n",
       "                {}\n",
       "            ).addTo(map_f453ef04e4f5358c49f2a4acd7d1d6e0);\n",
       "        \n",
       "    \n",
       "            var icon_dce79ef602e980d896ae8e0869a3efae = L.AwesomeMarkers.icon(\n",
       "                {&quot;extraClasses&quot;: &quot;fa-rotate-0&quot;, &quot;icon&quot;: &quot;info-sign&quot;, &quot;iconColor&quot;: &quot;white&quot;, &quot;markerColor&quot;: &quot;blue&quot;, &quot;prefix&quot;: &quot;glyphicon&quot;}\n",
       "            );\n",
       "            marker_dafb820e33965e66b7c4db52249c5b25.setIcon(icon_dce79ef602e980d896ae8e0869a3efae);\n",
       "        \n",
       "    \n",
       "            var marker_f14a9eabf1589951eff29f589234432e = L.marker(\n",
       "                [18.5312295, -69.8960265],\n",
       "                {}\n",
       "            ).addTo(map_f453ef04e4f5358c49f2a4acd7d1d6e0);\n",
       "        \n",
       "    \n",
       "            var icon_9c0446ad9ae7d3563ac5cbccc5862df0 = L.AwesomeMarkers.icon(\n",
       "                {&quot;extraClasses&quot;: &quot;fa-rotate-0&quot;, &quot;icon&quot;: &quot;info-sign&quot;, &quot;iconColor&quot;: &quot;white&quot;, &quot;markerColor&quot;: &quot;blue&quot;, &quot;prefix&quot;: &quot;glyphicon&quot;}\n",
       "            );\n",
       "            marker_f14a9eabf1589951eff29f589234432e.setIcon(icon_9c0446ad9ae7d3563ac5cbccc5862df0);\n",
       "        \n",
       "    \n",
       "            var marker_78691742a0d2a81d6ad4ffa99702d04a = L.marker(\n",
       "                [18.4919679, -69.945525],\n",
       "                {}\n",
       "            ).addTo(map_f453ef04e4f5358c49f2a4acd7d1d6e0);\n",
       "        \n",
       "    \n",
       "            var icon_253752e51738a3a97eb7374009a672fc = L.AwesomeMarkers.icon(\n",
       "                {&quot;extraClasses&quot;: &quot;fa-rotate-0&quot;, &quot;icon&quot;: &quot;info-sign&quot;, &quot;iconColor&quot;: &quot;white&quot;, &quot;markerColor&quot;: &quot;blue&quot;, &quot;prefix&quot;: &quot;glyphicon&quot;}\n",
       "            );\n",
       "            marker_78691742a0d2a81d6ad4ffa99702d04a.setIcon(icon_253752e51738a3a97eb7374009a672fc);\n",
       "        \n",
       "    \n",
       "            var marker_79c293d70b3a5332a9bca1826eefe330 = L.marker(\n",
       "                [18.4920907, -70.0000744],\n",
       "                {}\n",
       "            ).addTo(map_f453ef04e4f5358c49f2a4acd7d1d6e0);\n",
       "        \n",
       "    \n",
       "            var icon_4c5c93e5c5234290e59f679a36c797f5 = L.AwesomeMarkers.icon(\n",
       "                {&quot;extraClasses&quot;: &quot;fa-rotate-0&quot;, &quot;icon&quot;: &quot;info-sign&quot;, &quot;iconColor&quot;: &quot;white&quot;, &quot;markerColor&quot;: &quot;green&quot;, &quot;prefix&quot;: &quot;glyphicon&quot;}\n",
       "            );\n",
       "            marker_79c293d70b3a5332a9bca1826eefe330.setIcon(icon_4c5c93e5c5234290e59f679a36c797f5);\n",
       "        \n",
       "    \n",
       "            var marker_eca6409de8ecbf2bcb295a99e22b2c72 = L.marker(\n",
       "                [18.4897615, -69.9921195],\n",
       "                {}\n",
       "            ).addTo(map_f453ef04e4f5358c49f2a4acd7d1d6e0);\n",
       "        \n",
       "    \n",
       "            var icon_4e424641895e0bd62fdb47cbde25e35a = L.AwesomeMarkers.icon(\n",
       "                {&quot;extraClasses&quot;: &quot;fa-rotate-0&quot;, &quot;icon&quot;: &quot;info-sign&quot;, &quot;iconColor&quot;: &quot;white&quot;, &quot;markerColor&quot;: &quot;green&quot;, &quot;prefix&quot;: &quot;glyphicon&quot;}\n",
       "            );\n",
       "            marker_eca6409de8ecbf2bcb295a99e22b2c72.setIcon(icon_4e424641895e0bd62fdb47cbde25e35a);\n",
       "        \n",
       "    \n",
       "            var marker_65daad835e5183606cd95fda7b7f70b0 = L.marker(\n",
       "                [18.511389, -70.0246035],\n",
       "                {}\n",
       "            ).addTo(map_f453ef04e4f5358c49f2a4acd7d1d6e0);\n",
       "        \n",
       "    \n",
       "            var icon_9cf24839126112d8e319b120e7369853 = L.AwesomeMarkers.icon(\n",
       "                {&quot;extraClasses&quot;: &quot;fa-rotate-0&quot;, &quot;icon&quot;: &quot;info-sign&quot;, &quot;iconColor&quot;: &quot;white&quot;, &quot;markerColor&quot;: &quot;green&quot;, &quot;prefix&quot;: &quot;glyphicon&quot;}\n",
       "            );\n",
       "            marker_65daad835e5183606cd95fda7b7f70b0.setIcon(icon_9cf24839126112d8e319b120e7369853);\n",
       "        \n",
       "    \n",
       "            var marker_4925525ee32be21bdce32775d1e6a2fa = L.marker(\n",
       "                [18.4688886, -69.990973],\n",
       "                {}\n",
       "            ).addTo(map_f453ef04e4f5358c49f2a4acd7d1d6e0);\n",
       "        \n",
       "    \n",
       "            var icon_5c84def49d120e3336fdd5c244fd5dd8 = L.AwesomeMarkers.icon(\n",
       "                {&quot;extraClasses&quot;: &quot;fa-rotate-0&quot;, &quot;icon&quot;: &quot;info-sign&quot;, &quot;iconColor&quot;: &quot;white&quot;, &quot;markerColor&quot;: &quot;green&quot;, &quot;prefix&quot;: &quot;glyphicon&quot;}\n",
       "            );\n",
       "            marker_4925525ee32be21bdce32775d1e6a2fa.setIcon(icon_5c84def49d120e3336fdd5c244fd5dd8);\n",
       "        \n",
       "    \n",
       "            var marker_ef90b3dd8bd3ee6f8dacff93b01121ff = L.marker(\n",
       "                [18.4837471, -69.9805741],\n",
       "                {}\n",
       "            ).addTo(map_f453ef04e4f5358c49f2a4acd7d1d6e0);\n",
       "        \n",
       "    \n",
       "            var icon_546799e7efcd72952b7ac3e9146127a7 = L.AwesomeMarkers.icon(\n",
       "                {&quot;extraClasses&quot;: &quot;fa-rotate-0&quot;, &quot;icon&quot;: &quot;info-sign&quot;, &quot;iconColor&quot;: &quot;white&quot;, &quot;markerColor&quot;: &quot;green&quot;, &quot;prefix&quot;: &quot;glyphicon&quot;}\n",
       "            );\n",
       "            marker_ef90b3dd8bd3ee6f8dacff93b01121ff.setIcon(icon_546799e7efcd72952b7ac3e9146127a7);\n",
       "        \n",
       "    \n",
       "            var marker_3450c35e042e2bff9dba623cdf4109a7 = L.marker(\n",
       "                [18.5182681, -69.9949233],\n",
       "                {}\n",
       "            ).addTo(map_f453ef04e4f5358c49f2a4acd7d1d6e0);\n",
       "        \n",
       "    \n",
       "            var icon_f5936cffa666a11e8e2275d1e4e62cd9 = L.AwesomeMarkers.icon(\n",
       "                {&quot;extraClasses&quot;: &quot;fa-rotate-0&quot;, &quot;icon&quot;: &quot;info-sign&quot;, &quot;iconColor&quot;: &quot;white&quot;, &quot;markerColor&quot;: &quot;green&quot;, &quot;prefix&quot;: &quot;glyphicon&quot;}\n",
       "            );\n",
       "            marker_3450c35e042e2bff9dba623cdf4109a7.setIcon(icon_f5936cffa666a11e8e2275d1e4e62cd9);\n",
       "        \n",
       "    \n",
       "            var marker_cdf7da3dbf4e4c69c394f0c29a28f770 = L.marker(\n",
       "                [18.4695966, -70.0026559],\n",
       "                {}\n",
       "            ).addTo(map_f453ef04e4f5358c49f2a4acd7d1d6e0);\n",
       "        \n",
       "    \n",
       "            var icon_c1d79492f1c19cb55de4b2bbb105d04d = L.AwesomeMarkers.icon(\n",
       "                {&quot;extraClasses&quot;: &quot;fa-rotate-0&quot;, &quot;icon&quot;: &quot;info-sign&quot;, &quot;iconColor&quot;: &quot;white&quot;, &quot;markerColor&quot;: &quot;green&quot;, &quot;prefix&quot;: &quot;glyphicon&quot;}\n",
       "            );\n",
       "            marker_cdf7da3dbf4e4c69c394f0c29a28f770.setIcon(icon_c1d79492f1c19cb55de4b2bbb105d04d);\n",
       "        \n",
       "    \n",
       "            var marker_5cd1489b86c2e87846f5468352642cf4 = L.marker(\n",
       "                [18.4867668, -70.0021698],\n",
       "                {}\n",
       "            ).addTo(map_f453ef04e4f5358c49f2a4acd7d1d6e0);\n",
       "        \n",
       "    \n",
       "            var icon_3df302903330e7ff5205405eadae2f1c = L.AwesomeMarkers.icon(\n",
       "                {&quot;extraClasses&quot;: &quot;fa-rotate-0&quot;, &quot;icon&quot;: &quot;info-sign&quot;, &quot;iconColor&quot;: &quot;white&quot;, &quot;markerColor&quot;: &quot;green&quot;, &quot;prefix&quot;: &quot;glyphicon&quot;}\n",
       "            );\n",
       "            marker_5cd1489b86c2e87846f5468352642cf4.setIcon(icon_3df302903330e7ff5205405eadae2f1c);\n",
       "        \n",
       "    \n",
       "            var marker_0169f96d22b35b00c6a7d7ab176f8d81 = L.marker(\n",
       "                [18.514538, -69.8578751],\n",
       "                {}\n",
       "            ).addTo(map_f453ef04e4f5358c49f2a4acd7d1d6e0);\n",
       "        \n",
       "    \n",
       "            var icon_475d3c47d7d0f497e9683d66a1883dc3 = L.AwesomeMarkers.icon(\n",
       "                {&quot;extraClasses&quot;: &quot;fa-rotate-0&quot;, &quot;icon&quot;: &quot;info-sign&quot;, &quot;iconColor&quot;: &quot;white&quot;, &quot;markerColor&quot;: &quot;purple&quot;, &quot;prefix&quot;: &quot;glyphicon&quot;}\n",
       "            );\n",
       "            marker_0169f96d22b35b00c6a7d7ab176f8d81.setIcon(icon_475d3c47d7d0f497e9683d66a1883dc3);\n",
       "        \n",
       "    \n",
       "            var marker_725de94eede85e569191742c4850a376 = L.marker(\n",
       "                [18.4916019, -69.842487],\n",
       "                {}\n",
       "            ).addTo(map_f453ef04e4f5358c49f2a4acd7d1d6e0);\n",
       "        \n",
       "    \n",
       "            var icon_d753a0ac518694d000fd86aefda62b6c = L.AwesomeMarkers.icon(\n",
       "                {&quot;extraClasses&quot;: &quot;fa-rotate-0&quot;, &quot;icon&quot;: &quot;info-sign&quot;, &quot;iconColor&quot;: &quot;white&quot;, &quot;markerColor&quot;: &quot;purple&quot;, &quot;prefix&quot;: &quot;glyphicon&quot;}\n",
       "            );\n",
       "            marker_725de94eede85e569191742c4850a376.setIcon(icon_d753a0ac518694d000fd86aefda62b6c);\n",
       "        \n",
       "    \n",
       "            var marker_8cce79f5f49d08c13620ffcefeb61815 = L.marker(\n",
       "                [18.4968587, -69.8379265],\n",
       "                {}\n",
       "            ).addTo(map_f453ef04e4f5358c49f2a4acd7d1d6e0);\n",
       "        \n",
       "    \n",
       "            var icon_1dfe4954069cec1635be04b8a6804289 = L.AwesomeMarkers.icon(\n",
       "                {&quot;extraClasses&quot;: &quot;fa-rotate-0&quot;, &quot;icon&quot;: &quot;info-sign&quot;, &quot;iconColor&quot;: &quot;white&quot;, &quot;markerColor&quot;: &quot;purple&quot;, &quot;prefix&quot;: &quot;glyphicon&quot;}\n",
       "            );\n",
       "            marker_8cce79f5f49d08c13620ffcefeb61815.setIcon(icon_1dfe4954069cec1635be04b8a6804289);\n",
       "        \n",
       "    \n",
       "            var marker_27d317dc41c50a9834c2c9b90908d8f1 = L.marker(\n",
       "                [18.5276023, -69.8547149],\n",
       "                {}\n",
       "            ).addTo(map_f453ef04e4f5358c49f2a4acd7d1d6e0);\n",
       "        \n",
       "    \n",
       "            var icon_22f9cf536de66cdbe055d0381367f92a = L.AwesomeMarkers.icon(\n",
       "                {&quot;extraClasses&quot;: &quot;fa-rotate-0&quot;, &quot;icon&quot;: &quot;info-sign&quot;, &quot;iconColor&quot;: &quot;white&quot;, &quot;markerColor&quot;: &quot;purple&quot;, &quot;prefix&quot;: &quot;glyphicon&quot;}\n",
       "            );\n",
       "            marker_27d317dc41c50a9834c2c9b90908d8f1.setIcon(icon_22f9cf536de66cdbe055d0381367f92a);\n",
       "        \n",
       "    \n",
       "            var marker_30ba429017237b2e72e23ec8deabf3dd = L.marker(\n",
       "                [18.5278649, -69.8719631],\n",
       "                {}\n",
       "            ).addTo(map_f453ef04e4f5358c49f2a4acd7d1d6e0);\n",
       "        \n",
       "    \n",
       "            var icon_db6671d62d0ccae42d04d111e64f711a = L.AwesomeMarkers.icon(\n",
       "                {&quot;extraClasses&quot;: &quot;fa-rotate-0&quot;, &quot;icon&quot;: &quot;info-sign&quot;, &quot;iconColor&quot;: &quot;white&quot;, &quot;markerColor&quot;: &quot;purple&quot;, &quot;prefix&quot;: &quot;glyphicon&quot;}\n",
       "            );\n",
       "            marker_30ba429017237b2e72e23ec8deabf3dd.setIcon(icon_db6671d62d0ccae42d04d111e64f711a);\n",
       "        \n",
       "    \n",
       "            var marker_6e8a50c38a906b276562798bce9d09b5 = L.marker(\n",
       "                [18.5108844, -69.8767493],\n",
       "                {}\n",
       "            ).addTo(map_f453ef04e4f5358c49f2a4acd7d1d6e0);\n",
       "        \n",
       "    \n",
       "            var icon_0fa46527040d0feaa9865301894ecc24 = L.AwesomeMarkers.icon(\n",
       "                {&quot;extraClasses&quot;: &quot;fa-rotate-0&quot;, &quot;icon&quot;: &quot;info-sign&quot;, &quot;iconColor&quot;: &quot;white&quot;, &quot;markerColor&quot;: &quot;purple&quot;, &quot;prefix&quot;: &quot;glyphicon&quot;}\n",
       "            );\n",
       "            marker_6e8a50c38a906b276562798bce9d09b5.setIcon(icon_0fa46527040d0feaa9865301894ecc24);\n",
       "        \n",
       "&lt;/script&gt;\n",
       "&lt;/html&gt;\" style=\"position:absolute;width:100%;height:100%;left:0;top:0;border:none !important;\" allowfullscreen webkitallowfullscreen mozallowfullscreen></iframe></div></div>"
      ],
      "text/plain": [
       "<folium.folium.Map at 0x151dc88ac40>"
      ]
     },
     "execution_count": 27,
     "metadata": {},
     "output_type": "execute_result"
    }
   ],
   "source": [
    "colors = ['red', 'blue', 'green', 'purple']\n",
    "\n",
    "test_nodes = []\n",
    "\n",
    "centroid_node = geoGraph.get_nearest_geoNode(18.472998, -69.891905)\n",
    "\n",
    "min_distance = 0.6\n",
    "\n",
    "import folium\n",
    "\n",
    "initial_marker = [18.4708214, -69.895577]\n",
    "\n",
    "map = folium.Map(location=initial_marker, zoom_start=17)\n",
    "\n",
    "i = 0\n",
    "for route in routes:\n",
    "    for node in route.get_nodes():\n",
    "        point = [node.lat, node.lon]\n",
    "        folium.Marker(point, icon=folium.Icon(color=colors[i])).add_to(map)\n",
    "    i+=1\n",
    "\n",
    "map"
   ]
  },
  {
   "cell_type": "code",
   "execution_count": null,
   "metadata": {},
   "outputs": [],
   "source": []
  }
 ],
 "metadata": {
  "kernelspec": {
   "display_name": "base",
   "language": "python",
   "name": "base"
  },
  "language_info": {
   "codemirror_mode": {
    "name": "ipython",
    "version": 3
   },
   "file_extension": ".py",
   "mimetype": "text/x-python",
   "name": "python",
   "nbconvert_exporter": "python",
   "pygments_lexer": "ipython3",
   "version": "3.9.12"
  },
  "orig_nbformat": 4
 },
 "nbformat": 4,
 "nbformat_minor": 2
}
